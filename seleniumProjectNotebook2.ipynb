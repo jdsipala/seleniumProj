{
 "cells": [
  {
   "cell_type": "code",
   "execution_count": 71,
   "metadata": {},
   "outputs": [
    {
     "name": "stdout",
     "output_type": "stream",
     "text": [
      "1\n",
      "Walmart\n",
      "$514,405.0\n",
      "2.8%\n",
      "$6,670.0\n",
      "-32.4%\n",
      "$219,295.0\n",
      "$279,880.3\n",
      "-\n",
      "2,200,000\n",
      "-\n"
     ]
    }
   ],
   "source": [
    "import selenium\n",
    "from selenium import webdriver\n",
    "import time\n",
    "import re\n",
    "\n",
    "driver = webdriver.Chrome(r'C:/Users/jdsip/OneDrive/Desktop/chromedriver.exe')\n",
    "\n",
    "driver.get('https://fortune.com/fortune500/2019/search/')\n",
    "\n",
    "\n",
    "time.sleep(4)\n",
    "\n",
    "row=driver.find_element_by_xpath('.//div[@class=\"rt-tr-group\"]').text\n",
    "\n",
    "print(row)\n",
    "\n",
    "\n",
    "# next_button = driver.find_element_by_xpath('//*[@id=\"content\"]/div/div/div[2]/div/div[2]/div/div[3]/button')\n",
    "# next_button.click()\n",
    "\n",
    "# driver.close()\n"
   ]
  },
  {
   "cell_type": "code",
   "execution_count": 72,
   "metadata": {},
   "outputs": [],
   "source": [
    "row=driver.find_element_by_xpath('.//div[@class=\"rt-tr-group\"]').text"
   ]
  },
  {
   "cell_type": "code",
   "execution_count": 73,
   "metadata": {},
   "outputs": [],
   "source": [
    "rank, company, b,c,d,e,f,g,h,i,j = row.split('\\n')"
   ]
  },
  {
   "cell_type": "code",
   "execution_count": 74,
   "metadata": {},
   "outputs": [
    {
     "data": {
      "text/plain": [
       "'$514,405.0'"
      ]
     },
     "execution_count": 74,
     "metadata": {},
     "output_type": "execute_result"
    }
   ],
   "source": [
    "b"
   ]
  },
  {
   "cell_type": "code",
   "execution_count": 2,
   "metadata": {},
   "outputs": [
    {
     "name": "stdout",
     "output_type": "stream",
     "text": [
      "https://fortune.com/fortune500/2019/search/\n",
      "Scraping Page number 1\n",
      "Scraping Page number 2\n",
      "Scraping Page number 3\n",
      "Scraping Page number 4\n",
      "Scraping Page number 5\n",
      "Scraping Page number 6\n",
      "Message: element click intercepted: Element <button type=\"button\" class=\"-btn\">...</button> is not clickable at point (884, 651). Other element would receive the click: <div class=\"bx-slab\">...</div>\n",
      "  (Session info: chrome=75.0.3770.142)\n",
      "\n",
      "https://fortune.com/fortune500/2018/search/\n",
      "Scraping Page number 1\n",
      "Scraping Page number 2\n",
      "Scraping Page number 3\n",
      "Scraping Page number 4\n",
      "Scraping Page number 5\n",
      "Scraping Page number 6\n",
      "https://fortune.com/fortune500/2017/search/\n",
      "Scraping Page number 1\n",
      "Message: no such element: Unable to locate element: {\"method\":\"xpath\",\"selector\":\"//*[@id=\"content\"]/div/div/div[2]/div/div[2]/div/div[3]/button\"}\n",
      "  (Session info: chrome=75.0.3770.142)\n",
      "\n",
      "https://fortune.com/fortune500/2016/search/\n",
      "Scraping Page number 1\n",
      "Scraping Page number 2\n",
      "Scraping Page number 3\n",
      "Scraping Page number 4\n",
      "Scraping Page number 5\n",
      "Scraping Page number 6\n",
      "https://fortune.com/fortune500/2015/search/\n",
      "Scraping Page number 1\n",
      "Scraping Page number 2\n",
      "Scraping Page number 3\n",
      "Scraping Page number 4\n",
      "Scraping Page number 5\n",
      "Scraping Page number 6\n"
     ]
    }
   ],
   "source": [
    "from selenium import webdriver\n",
    "from selenium.webdriver.common.by import By\n",
    "from selenium.webdriver.support.ui import WebDriverWait\n",
    "from selenium.webdriver.support import expected_conditions as EC\n",
    "import time\n",
    "import csv\n",
    "import re\n",
    "\n",
    "# Windows users need to specify the path to chrome driver you just downloaded.\n",
    "# You need to unzip the zipfile first and move the .exe file to any folder you want.\n",
    "# driver = webdriver.Chrome(r'path\\to\\where\\you\\download\\the\\chromedriver.exe')\n",
    "\n",
    "driver = webdriver.Chrome(r'C:/Users/jdsip/OneDrive/Desktop/chromedriver.exe')\n",
    "\n",
    "csv_file = open('fortune.csv', 'w', encoding='utf-8', newline='')\n",
    "writer = csv.writer(csv_file)\n",
    "writer.writerow(['rank','company','revenues','revenue % change', 'profits','profits % change','assets','market val','change in rank 1000','employees','change in rank 500'])\n",
    "\n",
    "years_list = [9,8]\n",
    "s = \"https://fortune.com/fortune500/201{}/search/\"\n",
    "\n",
    "for i in years_list:\n",
    "    url = s.format(i)\n",
    "    print(url)\n",
    "    driver.get(url)\n",
    "    # # Click review button to go to the review section\n",
    "    # review_button = driver.find_element_by_xpath('//span[@class=\"padLeft6 cursorPointer\"]')\n",
    "    # review_button.click()\n",
    "\n",
    "\n",
    "    # Page index used to keep track of where we are.\n",
    "    index = 1\n",
    "    while True:\n",
    "        if index > 5:\n",
    "            break\n",
    "\n",
    "        try:\n",
    "            print(\"Scraping Page number \" + str(index))\n",
    "            index = index + 1\n",
    "            # Find all the rows on the page\n",
    "            wait_row = WebDriverWait(driver, 30)\n",
    "            rows = wait_row.until(EC.presence_of_all_elements_located((By.XPATH,\n",
    "                                        '//div[@class=\"rt-tr-group\"]')))\n",
    "            for row in rows:\n",
    "                # Initialize an empty dictionary for each review\n",
    "                row_dict = {}\n",
    "                # Use relative xpath to locate the title, text, username, date, rating.\n",
    "                # Once you locate the element, you can use 'element.text' to return its string.\n",
    "                # To get the attribute instead of the text of each element, use 'element.get_attribute()'\n",
    "                try:\n",
    "                    rank = row.find_element_by_xpath('.//div[@class=\"rt-td searchResults__cell--2Y7Ce searchResults__rank--1sTfo\"]//span').text\n",
    "                    row_dict['rank'] = rank\n",
    "    #                 print(rank)\n",
    "                except:\n",
    "                    rank = None\n",
    "                try:\n",
    "                    company = row.find_element_by_xpath('.//div[@class=\"rt-td searchResults__cell--2Y7Ce searchResults__title--3LyRA\"]//span/div').text\n",
    "                    row_dict['company'] = company\n",
    "    #                 print(company)\n",
    "                except:\n",
    "                    company = None\n",
    "\n",
    "                try:\n",
    "                    other_vals = row.find_elements_by_xpath('.//div[@class=\"rt-td searchResults__cell--2Y7Ce\"]//span') \n",
    "                    other_vals = [val.text for val in other_vals]  \n",
    "                    row_dict['revenues'] = other_vals[0]\n",
    "                    row_dict['revenue % change'] = other_vals[1]\n",
    "                    row_dict['profits'] = other_vals[2]\n",
    "                    row_dict['profits % change'] = other_vals[3]\n",
    "                    row_dict['assets']= other_vals[4]\n",
    "                    row_dict['market value'] = other_vals[5]\n",
    "                    row_dict['change in rank 1000'] = other_vals[6]\n",
    "                    row_dict['employees'] = other_vals[7]\n",
    "                    row_dict['change in rank 500'] = other_vals[8]\n",
    "    #                 print(other_vals)\n",
    "                except:\n",
    "                    row_dict['revenues'] = None\n",
    "                    row_dict['revenue % change'] = None\n",
    "                    row_dict['profits'] = None\n",
    "                    row_dict['profits % change'] = None\n",
    "                    row_dict['assets']= None\n",
    "                    row_dict['market value'] = None\n",
    "                    row_dict['change in rank 1000'] = None\n",
    "                    row_dict['employees'] = None\n",
    "                    row_dict['change in rank 500'] = None\n",
    "\n",
    "\n",
    "                writer.writerow(row_dict.values())\n",
    "\n",
    "            # Locate the next button on the page.\n",
    "            time.sleep(3)\n",
    "            next_button = driver.find_element_by_xpath('//*[@id=\"content\"]/div/div/div[2]/div/div[2]/div/div[3]/button')\n",
    "            next_button.click()\n",
    "\n",
    "        except Exception as e:\n",
    "            print(e)\n",
    "            break\n",
    "csv_file.close()\n",
    "driver.close()\n"
   ]
  },
  {
   "cell_type": "code",
   "execution_count": 94,
   "metadata": {},
   "outputs": [
    {
     "ename": "SyntaxError",
     "evalue": "invalid syntax (<ipython-input-94-d1526654d45a>, line 3)",
     "output_type": "error",
     "traceback": [
      "\u001b[1;36m  File \u001b[1;32m\"<ipython-input-94-d1526654d45a>\"\u001b[1;36m, line \u001b[1;32m3\u001b[0m\n\u001b[1;33m    s\u001b[0m\n\u001b[1;37m    ^\u001b[0m\n\u001b[1;31mSyntaxError\u001b[0m\u001b[1;31m:\u001b[0m invalid syntax\n"
     ]
    }
   ],
   "source": [
    "\n",
    "\n"
   ]
  },
  {
   "cell_type": "code",
   "execution_count": null,
   "metadata": {},
   "outputs": [],
   "source": []
  }
 ],
 "metadata": {
  "kernelspec": {
   "display_name": "Python 3",
   "language": "python",
   "name": "python3"
  },
  "language_info": {
   "codemirror_mode": {
    "name": "ipython",
    "version": 3
   },
   "file_extension": ".py",
   "mimetype": "text/x-python",
   "name": "python",
   "nbconvert_exporter": "python",
   "pygments_lexer": "ipython3",
   "version": "3.7.3"
  }
 },
 "nbformat": 4,
 "nbformat_minor": 2
}
